{
 "cells": [
  {
   "cell_type": "code",
   "execution_count": 18,
   "id": "f5b7b7b0-cc21-43a5-bf17-5bb1d0f43e49",
   "metadata": {},
   "outputs": [],
   "source": [
    "import pretty_midi\n",
    "import json"
   ]
  },
  {
   "cell_type": "code",
   "execution_count": 19,
   "id": "cfabcf30-3e37-4458-9e9d-339db3a796a4",
   "metadata": {},
   "outputs": [],
   "source": [
    "def create_instrument(music, instrument, melody):\n",
    "    instrument = pretty_midi.Instrument(program=instrument)\n",
    "    for n in melody:\n",
    "        note = pretty_midi.Note(\n",
    "            velocity=int(n[3]), pitch=int(n[0]), start=n[1], end=n[2])\n",
    "        instrument.notes.append(note)\n",
    "    music.instruments.append(instrument)"
   ]
  },
  {
   "cell_type": "code",
   "execution_count": 20,
   "id": "c42abb9d-4da6-4589-a4e3-5c42c206cc9b",
   "metadata": {},
   "outputs": [],
   "source": [
    "def load_data(instrument):\n",
    "    with open(f'generated_data/{instrument}.json', 'r') as file:\n",
    "        data = json.load(file)\n",
    "        if isinstance(data, list):\n",
    "            return data\n",
    "        raise ValueError(\"JSON does not contain a top-level array.\")"
   ]
  },
  {
   "cell_type": "code",
   "execution_count": 21,
   "id": "906e31ab-0585-4d3f-ba1b-08ad95ba0b34",
   "metadata": {},
   "outputs": [],
   "source": [
    "music = pretty_midi.PrettyMIDI()"
   ]
  },
  {
   "cell_type": "code",
   "execution_count": 22,
   "id": "3324cbf1-8d8b-47de-8007-730757a1422f",
   "metadata": {},
   "outputs": [],
   "source": [
    "instrument = 24\n",
    "melody = load_data(instrument)\n",
    "create_instrument(music, instrument, melody)"
   ]
  },
  {
   "cell_type": "code",
   "execution_count": 23,
   "id": "69e810a0-95ba-459e-ad63-ff3e5cf1d6be",
   "metadata": {},
   "outputs": [],
   "source": [
    "music.write('music.mid')"
   ]
  },
  {
   "cell_type": "code",
   "execution_count": null,
   "id": "275397d8-b890-4cde-a837-6569a4a90af2",
   "metadata": {},
   "outputs": [],
   "source": []
  }
 ],
 "metadata": {
  "kernelspec": {
   "display_name": "Python 3 (ipykernel)",
   "language": "python",
   "name": "python3"
  },
  "language_info": {
   "codemirror_mode": {
    "name": "ipython",
    "version": 3
   },
   "file_extension": ".py",
   "mimetype": "text/x-python",
   "name": "python",
   "nbconvert_exporter": "python",
   "pygments_lexer": "ipython3",
   "version": "3.12.3"
  }
 },
 "nbformat": 4,
 "nbformat_minor": 5
}
