{
 "cells": [
  {
   "cell_type": "code",
   "execution_count": 8,
   "id": "0d31f7e1-31cc-4a7f-a1ee-8b8b4a6246ce",
   "metadata": {},
   "outputs": [],
   "source": [
    "import os\n",
    "from pathlib import Path\n",
    "import pretty_midi\n",
    "import json"
   ]
  },
  {
   "cell_type": "code",
   "execution_count": 9,
   "id": "00278b22-fc68-4515-9b8a-8cd08e1feff4",
   "metadata": {},
   "outputs": [
    {
     "name": "stdout",
     "output_type": "stream",
     "text": [
      "Using device: cuda\n"
     ]
    }
   ],
   "source": [
    "device = torch.device(\"cuda\" if torch.cuda.is_available() else \"cpu\")\n",
    "print(f\"Using device: {device}\")"
   ]
  },
  {
   "cell_type": "code",
   "execution_count": 10,
   "id": "7e3e067d-926c-4839-8e45-4f6e964d0030",
   "metadata": {},
   "outputs": [],
   "source": [
    "# Configuration\n",
    "MIDI_FOLDER = \"midi_files\"\n",
    "OUTPUT_FOLDER = \"raw_data\""
   ]
  },
  {
   "cell_type": "code",
   "execution_count": 11,
   "id": "bac8cd82-d684-4bce-9832-51948b1cc27f",
   "metadata": {},
   "outputs": [],
   "source": [
    "# Create output directory\n",
    "os.makedirs(OUTPUT_FOLDER, exist_ok=True)"
   ]
  },
  {
   "cell_type": "code",
   "execution_count": 12,
   "id": "b2577904-f18c-46a4-aba6-05a50fe59fd6",
   "metadata": {},
   "outputs": [],
   "source": [
    "# Discover MIDI files\n",
    "midi_folder = Path(MIDI_FOLDER)\n",
    "midi_files = list(midi_folder.rglob(\"*.mid\")) + list(midi_folder.rglob(\"*.midi\"))"
   ]
  },
  {
   "cell_type": "code",
   "execution_count": 13,
   "id": "044b3c75-0e6a-4f9b-9ffe-99d878659cc2",
   "metadata": {},
   "outputs": [],
   "source": [
    "def extract_notes_from_instrument(instrument):\n",
    "    \"\"\"Extract notes from a MIDI instrument as tuples.\"\"\"\n",
    "    notes_data = []\n",
    "    for note in instrument.notes:\n",
    "        note_tuple = [\n",
    "            note.pitch,\n",
    "            round(note.start, 2),\n",
    "            round(note.end, 2),\n",
    "            note.velocity\n",
    "        ]\n",
    "        notes_data.append(note_tuple)\n",
    "    return notes_data"
   ]
  },
  {
   "cell_type": "code",
   "execution_count": 14,
   "id": "2cbbf709-0437-4e15-855a-8b697b57ca45",
   "metadata": {},
   "outputs": [
    {
     "name": "stdout",
     "output_type": "stream",
     "text": [
      "[[45, np.float64(78.52), np.float64(78.84), 74], [50, np.float64(78.83), np.float64(78.99), 74], [47, np.float64(78.99), np.float64(79.79), 74], [50, np.float64(80.11), np.float64(80.42), 74], [45, np.float64(80.43), np.float64(80.9), 74], [42, np.float64(80.91), np.float64(81.7), 74], [40, np.float64(82.02), np.float64(82.18), 74], [42, np.float64(82.18), np.float64(82.34), 74], [45, np.float64(82.34), np.float64(82.82), 74], [47, np.float64(82.82), np.float64(83.3), 74], [50, np.float64(83.62), np.float64(83.78), 74], [52, np.float64(83.78), np.float64(83.94), 74], [54, np.float64(83.94), np.float64(84.09), 74], [59, np.float64(84.1), np.float64(84.25), 74], [57, np.float64(84.26), np.float64(84.74), 74], [54, np.float64(84.74), np.float64(85.53), 74], [40, np.float64(85.85), np.float64(86.01), 74], [42, np.float64(86.01), np.float64(86.17), 74], [45, np.float64(86.18), np.float64(86.65), 74], [47, np.float64(86.65), np.float64(87.45), 74], [50, np.float64(87.77), np.float64(88.09), 74], [45, np.float64(88.09), np.float64(88.57), 74], [42, np.float64(88.57), np.float64(89.36), 74], [40, np.float64(89.68), np.float64(89.84), 74], [42, np.float64(89.84), np.float64(90.0), 74], [45, np.float64(90.01), np.float64(90.48), 74], [47, np.float64(90.48), np.float64(90.96), 74], [50, np.float64(91.28), np.float64(91.44), 74], [52, np.float64(91.44), np.float64(91.59), 74], [54, np.float64(91.6), np.float64(91.76), 74], [59, np.float64(91.76), np.float64(91.91), 74], [57, np.float64(91.92), np.float64(92.4), 74], [54, np.float64(92.4), np.float64(93.19), 74], [40, np.float64(93.51), np.float64(93.67), 74], [42, np.float64(93.67), np.float64(93.83), 74], [45, np.float64(93.84), np.float64(94.31), 74], [47, np.float64(94.31), np.float64(95.11), 74], [50, np.float64(95.42), np.float64(95.74), 74], [45, np.float64(95.75), np.float64(96.23), 74], [42, np.float64(96.23), np.float64(97.02), 74], [40, np.float64(97.35), np.float64(97.5), 74], [42, np.float64(97.5), np.float64(97.66), 74], [45, np.float64(97.67), np.float64(98.14), 74], [47, np.float64(98.14), np.float64(98.62), 74], [50, np.float64(98.94), np.float64(99.09), 74], [52, np.float64(99.1), np.float64(99.25), 74], [54, np.float64(99.26), np.float64(99.41), 74], [59, np.float64(99.42), np.float64(99.58), 74], [57, np.float64(99.58), np.float64(100.05), 74], [54, np.float64(100.05), np.float64(100.53), 74], [59, np.float64(100.53), np.float64(100.7), 74], [57, np.float64(100.69), np.float64(100.85), 74], [54, np.float64(100.85), np.float64(101.01), 74], [52, np.float64(101.01), np.float64(101.17), 74], [50, np.float64(101.17), np.float64(101.33), 74], [47, np.float64(101.33), np.float64(101.49), 74], [45, np.float64(101.49), np.float64(101.97), 74], [47, np.float64(101.97), np.float64(102.77), 74], [50, np.float64(103.09), np.float64(103.24), 74], [47, np.float64(103.25), np.float64(103.41), 74], [52, np.float64(103.41), np.float64(103.73), 74], [50, np.float64(103.72), np.float64(103.88), 74], [54, np.float64(103.89), np.float64(104.68), 74], [62, np.float64(105.0), np.float64(105.8), 74], [64, np.float64(105.8), np.float64(105.96), 74], [61, np.float64(105.96), np.float64(106.12), 74], [57, np.float64(106.44), np.float64(106.6), 74], [57, np.float64(106.92), np.float64(107.55), 74], [54, np.float64(107.56), np.float64(107.71), 74], [59, np.float64(107.71), np.float64(107.87), 74], [52, np.float64(107.87), np.float64(108.51), 74], [57, np.float64(109.31), np.float64(109.47), 74], [57, np.float64(109.79), np.float64(110.27), 74], [54, np.float64(110.27), np.float64(110.42), 74], [57, np.float64(110.43), np.float64(110.58), 74], [59, np.float64(110.59), np.float64(110.75), 74], [54, np.float64(110.75), np.float64(110.91), 74], [47, np.float64(110.91), np.float64(111.07), 74], [50, np.float64(111.07), np.float64(111.23), 74], [47, np.float64(111.23), np.float64(111.38), 74], [50, np.float64(111.38), np.float64(111.7), 74], [52, np.float64(111.7), np.float64(112.02), 74], [59, np.float64(112.5), np.float64(112.66), 74], [57, np.float64(112.66), np.float64(112.82), 74], [52, np.float64(112.82), np.float64(112.98), 74], [54, np.float64(113.14), np.float64(113.3), 74], [52, np.float64(113.46), np.float64(113.62), 74], [57, np.float64(113.62), np.float64(113.93), 74], [66, np.float64(114.26), np.float64(114.42), 74], [64, np.float64(114.42), np.float64(114.58), 74], [61, np.float64(114.58), np.float64(114.74), 74], [54, np.float64(114.74), np.float64(114.9), 74], [57, np.float64(114.89), np.float64(115.21), 74], [54, np.float64(115.21), np.float64(115.37), 74], [59, np.float64(115.37), np.float64(115.85), 74], [59, np.float64(115.85), np.float64(116.01), 74], [57, np.float64(116.01), np.float64(116.17), 74], [54, np.float64(116.17), np.float64(116.33), 74], [52, np.float64(116.33), np.float64(116.49), 74], [50, np.float64(116.49), np.float64(116.65), 74]]\n"
     ]
    }
   ],
   "source": [
    "raw_data = []\n",
    "\n",
    "for midi_file in midi_files[0:100]:\n",
    "    try:\n",
    "        midi_data = pretty_midi.PrettyMIDI(str(midi_file))\n",
    "        for instrument in midi_data.instruments:\n",
    "            if instrument.program == 29:\n",
    "                notes = extract_notes_from_instrument(instrument)\n",
    "                raw_data.extend(notes)\n",
    "    except:\n",
    "        pass\n",
    "\n",
    "folder = Path(\"raw_data\")\n",
    "folder.mkdir(parents=True, exist_ok=True)\n",
    "\n",
    "file_path = folder / \"29.json\"\n",
    "\n",
    "with file_path.open(\"w\") as f:\n",
    "    json.dump(raw_data, f)\n",
    "\n",
    "print(raw_data[:100])"
   ]
  },
  {
   "cell_type": "code",
   "execution_count": null,
   "id": "3f680e27-2715-4f5e-9481-327bf22a5deb",
   "metadata": {},
   "outputs": [],
   "source": []
  }
 ],
 "metadata": {
  "kernelspec": {
   "display_name": "Python 3 (ipykernel)",
   "language": "python",
   "name": "python3"
  },
  "language_info": {
   "codemirror_mode": {
    "name": "ipython",
    "version": 3
   },
   "file_extension": ".py",
   "mimetype": "text/x-python",
   "name": "python",
   "nbconvert_exporter": "python",
   "pygments_lexer": "ipython3",
   "version": "3.12.3"
  }
 },
 "nbformat": 4,
 "nbformat_minor": 5
}
