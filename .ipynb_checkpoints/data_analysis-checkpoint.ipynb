{
 "cells": [
  {
   "cell_type": "code",
   "execution_count": 3,
   "id": "ca715938-b187-4afd-8b1f-6e58e9cd78a6",
   "metadata": {},
   "outputs": [],
   "source": [
    "import numpy as np"
   ]
  },
  {
   "cell_type": "code",
   "execution_count": 9,
   "id": "82223d04-e31c-45e3-959b-4d6e1d2c8c3b",
   "metadata": {},
   "outputs": [],
   "source": [
    "import pretty_midi"
   ]
  },
  {
   "cell_type": "code",
   "execution_count": 10,
   "id": "f785a582-0940-4029-866a-351849617c37",
   "metadata": {},
   "outputs": [],
   "source": [
    "midi_data = pretty_midi.PrettyMIDI('data/EggReverie.mid')"
   ]
  },
  {
   "cell_type": "code",
   "execution_count": 11,
   "id": "97bb4fef-49c2-46b3-8e50-e1609df8dc33",
   "metadata": {},
   "outputs": [
    {
     "name": "stdout",
     "output_type": "stream",
     "text": [
      "Instrument program number: 18\n",
      "Is drum? False\n",
      "Instrument program number: 16\n",
      "Is drum? True\n",
      "Instrument program number: 29\n",
      "Is drum? False\n",
      "Instrument program number: 81\n",
      "Is drum? False\n",
      "Instrument program number: 0\n",
      "Is drum? False\n",
      "Instrument program number: 33\n",
      "Is drum? False\n",
      "Instrument program number: 74\n",
      "Is drum? False\n",
      "Instrument program number: 90\n",
      "Is drum? False\n",
      "Instrument program number: 61\n",
      "Is drum? False\n",
      "Instrument program number: 107\n",
      "Is drum? False\n",
      "Instrument program number: 36\n",
      "Is drum? False\n"
     ]
    }
   ],
   "source": [
    "for instrument in midi_data.instruments:\n",
    "    print(f\"Instrument program number: {instrument.program}\")\n",
    "    print(f\"Is drum? {instrument.is_drum}\")"
   ]
  },
  {
   "cell_type": "code",
   "execution_count": 12,
   "id": "de0bde2f-c989-4ccb-bec7-943775148ebc",
   "metadata": {},
   "outputs": [
    {
     "name": "stdout",
     "output_type": "stream",
     "text": [
      "Pitch: 84, Start: 0.75, End: 0.81, Velocity: 100\n",
      "Pitch: 86, Start: 0.81, End: 0.88, Velocity: 100\n",
      "Pitch: 88, Start: 0.88, End: 0.94, Velocity: 100\n",
      "Pitch: 89, Start: 0.94, End: 1.00, Velocity: 100\n",
      "Pitch: 86, Start: 1.00, End: 1.88, Velocity: 100\n",
      "Pitch: 88, Start: 1.88, End: 2.88, Velocity: 100\n",
      "Pitch: 89, Start: 2.88, End: 3.88, Velocity: 100\n",
      "Pitch: 88, Start: 3.88, End: 5.00, Velocity: 100\n",
      "Pitch: 91, Start: 1.00, End: 5.00, Velocity: 100\n",
      "Pitch: 86, Start: 5.00, End: 5.88, Velocity: 100\n",
      "Pitch: 88, Start: 5.88, End: 6.88, Velocity: 100\n",
      "Pitch: 89, Start: 6.88, End: 8.00, Velocity: 100\n",
      "Pitch: 91, Start: 5.00, End: 8.00, Velocity: 100\n",
      "Pitch: 86, Start: 9.00, End: 9.88, Velocity: 100\n",
      "Pitch: 88, Start: 9.88, End: 10.88, Velocity: 100\n",
      "Pitch: 89, Start: 10.88, End: 11.88, Velocity: 100\n",
      "Pitch: 88, Start: 11.88, End: 13.00, Velocity: 100\n",
      "Pitch: 91, Start: 9.00, End: 13.00, Velocity: 100\n",
      "Pitch: 86, Start: 13.00, End: 13.88, Velocity: 100\n",
      "Pitch: 88, Start: 13.88, End: 14.88, Velocity: 100\n",
      "Pitch: 89, Start: 14.88, End: 15.88, Velocity: 100\n",
      "Pitch: 91, Start: 13.00, End: 16.50, Velocity: 100\n",
      "Pitch: 88, Start: 15.88, End: 16.50, Velocity: 100\n",
      "Pitch: 86, Start: 17.00, End: 17.88, Velocity: 100\n",
      "Pitch: 88, Start: 17.88, End: 18.88, Velocity: 100\n",
      "Pitch: 89, Start: 18.88, End: 19.88, Velocity: 100\n",
      "Pitch: 91, Start: 17.00, End: 21.00, Velocity: 100\n",
      "Pitch: 88, Start: 19.88, End: 21.00, Velocity: 100\n",
      "Pitch: 86, Start: 21.00, End: 21.88, Velocity: 100\n",
      "Pitch: 88, Start: 21.88, End: 22.88, Velocity: 100\n",
      "Pitch: 89, Start: 22.88, End: 23.88, Velocity: 100\n",
      "Pitch: 91, Start: 21.00, End: 25.00, Velocity: 100\n",
      "Pitch: 88, Start: 23.88, End: 25.00, Velocity: 100\n",
      "Pitch: 84, Start: 64.75, End: 64.81, Velocity: 100\n",
      "Pitch: 86, Start: 64.81, End: 64.88, Velocity: 100\n",
      "Pitch: 88, Start: 64.88, End: 64.94, Velocity: 100\n",
      "Pitch: 89, Start: 64.94, End: 65.00, Velocity: 100\n",
      "Pitch: 86, Start: 65.00, End: 65.88, Velocity: 100\n",
      "Pitch: 88, Start: 65.88, End: 66.88, Velocity: 100\n",
      "Pitch: 89, Start: 66.88, End: 67.88, Velocity: 100\n",
      "Pitch: 88, Start: 67.88, End: 69.00, Velocity: 100\n",
      "Pitch: 91, Start: 65.00, End: 69.00, Velocity: 100\n",
      "Pitch: 86, Start: 69.00, End: 69.88, Velocity: 100\n",
      "Pitch: 88, Start: 69.88, End: 70.88, Velocity: 100\n",
      "Pitch: 89, Start: 70.88, End: 72.00, Velocity: 100\n",
      "Pitch: 91, Start: 69.00, End: 72.00, Velocity: 100\n",
      "Pitch: 86, Start: 73.00, End: 73.88, Velocity: 100\n",
      "Pitch: 88, Start: 73.88, End: 74.88, Velocity: 100\n",
      "Pitch: 89, Start: 74.88, End: 75.88, Velocity: 100\n",
      "Pitch: 88, Start: 75.88, End: 77.00, Velocity: 100\n",
      "Pitch: 91, Start: 73.00, End: 77.00, Velocity: 100\n",
      "Pitch: 86, Start: 77.00, End: 77.88, Velocity: 100\n",
      "Pitch: 88, Start: 77.88, End: 78.88, Velocity: 100\n",
      "Pitch: 89, Start: 78.88, End: 79.88, Velocity: 100\n",
      "Pitch: 91, Start: 77.00, End: 80.50, Velocity: 100\n",
      "Pitch: 88, Start: 79.88, End: 80.50, Velocity: 100\n",
      "Pitch: 86, Start: 81.00, End: 81.88, Velocity: 100\n",
      "Pitch: 88, Start: 81.88, End: 82.88, Velocity: 100\n",
      "Pitch: 89, Start: 82.88, End: 83.88, Velocity: 100\n",
      "Pitch: 91, Start: 81.00, End: 85.00, Velocity: 100\n",
      "Pitch: 88, Start: 83.88, End: 85.00, Velocity: 100\n",
      "Pitch: 86, Start: 85.00, End: 85.88, Velocity: 100\n",
      "Pitch: 88, Start: 85.88, End: 86.88, Velocity: 100\n",
      "Pitch: 89, Start: 86.88, End: 87.88, Velocity: 100\n",
      "Pitch: 91, Start: 85.00, End: 89.00, Velocity: 100\n",
      "Pitch: 88, Start: 87.88, End: 89.00, Velocity: 100\n"
     ]
    }
   ],
   "source": [
    "for note in midi_data.instruments[0].notes:\n",
    "    print(f\"Pitch: {note.pitch}, Start: {note.start:.2f}, End: {note.end:.2f}, Velocity: {note.velocity}\")"
   ]
  },
  {
   "cell_type": "code",
   "execution_count": 13,
   "id": "6c48c2bd-14d9-41c7-8bec-f1a91202bcbd",
   "metadata": {},
   "outputs": [
    {
     "name": "stdout",
     "output_type": "stream",
     "text": [
      "Tempos (BPM): [120.]\n"
     ]
    }
   ],
   "source": [
    "print(\"Tempos (BPM):\", midi_data.get_tempo_changes()[1])"
   ]
  },
  {
   "cell_type": "code",
   "execution_count": 15,
   "id": "15958b16-c23d-43bd-a5f5-301f3ecc7bca",
   "metadata": {},
   "outputs": [
    {
     "name": "stdout",
     "output_type": "stream",
     "text": [
      "Time signature: 4/4 at 0.00s\n"
     ]
    }
   ],
   "source": [
    "for ts in midi_data.time_signature_changes:\n",
    "    print(f\"Time signature: {ts.numerator}/{ts.denominator} at {ts.time:.2f}s\")"
   ]
  },
  {
   "cell_type": "code",
   "execution_count": 16,
   "id": "93a61978-58c5-4231-9675-b1bed36d3fd8",
   "metadata": {},
   "outputs": [],
   "source": [
    "for ks in midi_data.key_signature_changes:\n",
    "    print(f\"Key: {ks.key_number} at {ks.time:.2f}s\")"
   ]
  },
  {
   "cell_type": "code",
   "execution_count": 17,
   "id": "dc1a7a8d-a125-48ab-8358-8e8281a692df",
   "metadata": {},
   "outputs": [
    {
     "name": "stdout",
     "output_type": "stream",
     "text": [
      "Instrument 18 (Not Drum) has 66 notes\n",
      "Instrument 16 (Drum) has 1673 notes\n",
      "Instrument 29 (Not Drum) has 266 notes\n",
      "Instrument 81 (Not Drum) has 526 notes\n",
      "Instrument 0 (Not Drum) has 50 notes\n",
      "Instrument 33 (Not Drum) has 912 notes\n",
      "Instrument 74 (Not Drum) has 118 notes\n",
      "Instrument 90 (Not Drum) has 88 notes\n",
      "Instrument 61 (Not Drum) has 6 notes\n",
      "Instrument 107 (Not Drum) has 114 notes\n",
      "Instrument 36 (Not Drum) has 256 notes\n"
     ]
    }
   ],
   "source": [
    "for inst in midi_data.instruments:\n",
    "    print(f\"Instrument {inst.program} ({'Drum' if inst.is_drum else 'Not Drum'}) has {len(inst.notes)} notes\")"
   ]
  },
  {
   "cell_type": "code",
   "execution_count": null,
   "id": "3c13960e-a344-4334-adc8-fd2bffeec092",
   "metadata": {},
   "outputs": [],
   "source": []
  }
 ],
 "metadata": {
  "kernelspec": {
   "display_name": "Python 3 (ipykernel)",
   "language": "python",
   "name": "python3"
  },
  "language_info": {
   "codemirror_mode": {
    "name": "ipython",
    "version": 3
   },
   "file_extension": ".py",
   "mimetype": "text/x-python",
   "name": "python",
   "nbconvert_exporter": "python",
   "pygments_lexer": "ipython3",
   "version": "3.12.3"
  }
 },
 "nbformat": 4,
 "nbformat_minor": 5
}
