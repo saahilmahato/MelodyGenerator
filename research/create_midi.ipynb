{
 "cells": [
  {
   "cell_type": "code",
   "execution_count": 13,
   "id": "5ae1a709-3f2a-431a-a2b6-8250a06df6df",
   "metadata": {},
   "outputs": [],
   "source": [
    "import pretty_midi\n",
    "import json"
   ]
  },
  {
   "cell_type": "code",
   "execution_count": 14,
   "id": "6769ea3f-2c5c-4c68-8123-3936a775b1fe",
   "metadata": {},
   "outputs": [],
   "source": [
    "def create_instrument(music, instrument, melody):\n",
    "    instrument = pretty_midi.Instrument(program=instrument)\n",
    "    for n in melody:\n",
    "        note = pretty_midi.Note(\n",
    "            velocity=n[3], pitch=n[0], start=n[1], end=n[2])\n",
    "        instrument.notes.append(note)\n",
    "    music.instruments.append(instrument)"
   ]
  },
  {
   "cell_type": "code",
   "execution_count": 15,
   "id": "15d53ec7-8e1a-42af-b1c5-a851ad2cb8d9",
   "metadata": {},
   "outputs": [],
   "source": [
    "def load_data(instrument):\n",
    "    with open(f'generated_data/{instrument}.json', 'r') as file:\n",
    "        data = json.load(file)\n",
    "        if isinstance(data, list):\n",
    "            return data\n",
    "        raise ValueError(\"JSON does not contain a top-level array.\")"
   ]
  },
  {
   "cell_type": "code",
   "execution_count": 16,
   "id": "6c3c2d17-ddec-419e-ba2d-3d0756cefb8f",
   "metadata": {},
   "outputs": [],
   "source": [
    "music = pretty_midi.PrettyMIDI()"
   ]
  },
  {
   "cell_type": "code",
   "execution_count": 17,
   "id": "bf7d1e68-c6e3-400a-aa33-5c25c96fe710",
   "metadata": {},
   "outputs": [],
   "source": [
    "instruments = [29]\n",
    "for instrument in instruments:\n",
    "    melody = load_data(instrument)\n",
    "    create_instrument(music, instrument, melody)"
   ]
  },
  {
   "cell_type": "code",
   "execution_count": 18,
   "id": "95614628-c09f-4776-8085-a1ff762b938e",
   "metadata": {},
   "outputs": [],
   "source": [
    "music.write('music.mid')"
   ]
  },
  {
   "cell_type": "code",
   "execution_count": null,
   "id": "3f47f706-f06f-456c-9c9b-af6e0c356298",
   "metadata": {},
   "outputs": [],
   "source": []
  }
 ],
 "metadata": {
  "kernelspec": {
   "display_name": "Python 3 (ipykernel)",
   "language": "python",
   "name": "python3"
  },
  "language_info": {
   "codemirror_mode": {
    "name": "ipython",
    "version": 3
   },
   "file_extension": ".py",
   "mimetype": "text/x-python",
   "name": "python",
   "nbconvert_exporter": "python",
   "pygments_lexer": "ipython3",
   "version": "3.12.3"
  }
 },
 "nbformat": 4,
 "nbformat_minor": 5
}
